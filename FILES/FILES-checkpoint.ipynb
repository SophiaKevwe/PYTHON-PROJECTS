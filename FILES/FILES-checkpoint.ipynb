{
 "cells": [
  {
   "cell_type": "code",
   "execution_count": 39,
   "id": "9e65da5d",
   "metadata": {
    "scrolled": true
   },
   "outputs": [],
   "source": [
    "harvest=open(\"HarvestNumbers.txt\",\"w\")\n",
    "num1=2\n",
    "num2=5\n",
    "num3=6\n",
    "num4=8\n",
    "num5=9\n",
    "harvest.write(str(num1)+\"\\n\")\n",
    "harvest.write(str(num2)+\"\\n\")\n",
    "harvest.write(str(num3)+\"\\n\")\n",
    "harvest.write(str(num4)+\"\\n\")\n",
    "harvest.write(str(num5)+\"\\n\")\n",
    "harvest.close()"
   ]
  },
  {
   "cell_type": "code",
   "execution_count": 81,
   "id": "55bf45c0",
   "metadata": {},
   "outputs": [
    {
     "name": "stdout",
     "output_type": "stream",
     "text": [
      "NUMBERS IN THE FILE:\n",
      "2\n",
      "5\n",
      "6\n",
      "8\n",
      "9\n",
      "\n"
     ]
    },
    {
     "ename": "ValueError",
     "evalue": "invalid literal for int() with base 10: ''",
     "output_type": "error",
     "traceback": [
      "\u001b[1;31m---------------------------------------------------------------------------\u001b[0m",
      "\u001b[1;31mValueError\u001b[0m                                Traceback (most recent call last)",
      "\u001b[1;32m<ipython-input-81-ad17def1a5f7>\u001b[0m in \u001b[0;36m<module>\u001b[1;34m\u001b[0m\n\u001b[0;32m      7\u001b[0m \u001b[1;32mfor\u001b[0m \u001b[0mline\u001b[0m \u001b[1;32min\u001b[0m \u001b[0mharvestcont\u001b[0m\u001b[1;33m:\u001b[0m\u001b[1;33m\u001b[0m\u001b[1;33m\u001b[0m\u001b[0m\n\u001b[0;32m      8\u001b[0m     \u001b[0mline\u001b[0m\u001b[1;33m=\u001b[0m\u001b[0mline\u001b[0m\u001b[1;33m.\u001b[0m\u001b[0mstrip\u001b[0m\u001b[1;33m(\u001b[0m\u001b[1;34m'\\n'\u001b[0m\u001b[1;33m)\u001b[0m\u001b[1;33m\u001b[0m\u001b[1;33m\u001b[0m\u001b[0m\n\u001b[1;32m----> 9\u001b[1;33m     \u001b[0mnum\u001b[0m\u001b[1;33m=\u001b[0m\u001b[0mint\u001b[0m\u001b[1;33m(\u001b[0m\u001b[0mline\u001b[0m\u001b[1;33m)\u001b[0m\u001b[1;33m\u001b[0m\u001b[1;33m\u001b[0m\u001b[0m\n\u001b[0m\u001b[0;32m     10\u001b[0m     \u001b[0mtotal\u001b[0m\u001b[1;33m=\u001b[0m\u001b[0mnum\u001b[0m\u001b[1;33m+\u001b[0m\u001b[0mtotal\u001b[0m\u001b[1;33m\u001b[0m\u001b[1;33m\u001b[0m\u001b[0m\n\u001b[0;32m     11\u001b[0m     \u001b[0mn\u001b[0m\u001b[1;33m=\u001b[0m\u001b[0mn\u001b[0m\u001b[1;33m+\u001b[0m\u001b[1;36m1\u001b[0m\u001b[1;33m\u001b[0m\u001b[1;33m\u001b[0m\u001b[0m\n",
      "\u001b[1;31mValueError\u001b[0m: invalid literal for int() with base 10: ''"
     ]
    }
   ],
   "source": [
    "harvestt=open(\"HarvestNumbers.txt\",\"r\")\n",
    "harvestcont=harvestt.read()\n",
    "print(\"NUMBERS IN THE FILE:\")\n",
    "print(harvestcont)\n",
    "total=0\n",
    "n=0\n",
    "for line in harvestcont:\n",
    "    line=line.strip('\\n')\n",
    "    num=int(line)\n",
    "    total=num+total\n",
    "    n=n+1\n",
    "harvestt.close()\n",
    "avg=total/n\n",
    "print(\"The average =\",avg)\n"
   ]
  },
  {
   "cell_type": "code",
   "execution_count": 84,
   "id": "615633f8",
   "metadata": {},
   "outputs": [],
   "source": [
    "outfile=open(\"bibleinfo.txt\",\"w\")\n",
    "name=\"GENESIS\"\n",
    "bname=\"ADAM\"\n",
    "cname=\"BETHELEHEM\"\n",
    "outfile.write(name+\"\\n\")\n",
    "outfile.write(bname+\"\\n\")\n",
    "outfile.write(cname+\"\\n\")\n",
    "outfile.close()\n"
   ]
  },
  {
   "cell_type": "code",
   "execution_count": null,
   "id": "1c94d63c",
   "metadata": {},
   "outputs": [],
   "source": []
  }
 ],
 "metadata": {
  "kernelspec": {
   "display_name": "Python 3",
   "language": "python",
   "name": "python3"
  },
  "language_info": {
   "codemirror_mode": {
    "name": "ipython",
    "version": 3
   },
   "file_extension": ".py",
   "mimetype": "text/x-python",
   "name": "python",
   "nbconvert_exporter": "python",
   "pygments_lexer": "ipython3",
   "version": "3.8.8"
  }
 },
 "nbformat": 4,
 "nbformat_minor": 5
}
